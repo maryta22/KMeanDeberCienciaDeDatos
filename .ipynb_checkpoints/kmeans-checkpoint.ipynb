{
 "cells": [
  {
   "cell_type": "code",
   "execution_count": 1,
   "metadata": {
    "id": "N9smU5oqLW_l"
   },
   "outputs": [],
   "source": [
    "import pandas as pd\n",
    "import numpy as np\n",
    "from sklearn.preprocessing import StandardScaler\n",
    "from sklearn.cluster import KMeans\n",
    "import seaborn as sns\n",
    "import matplotlib.pyplot as plt"
   ]
  },
  {
   "cell_type": "code",
   "execution_count": 2,
   "metadata": {
    "id": "JNeqk54ULW_m"
   },
   "outputs": [],
   "source": [
    "df = pd.read_csv(\"flights.zip\", sep=\"|\", nrows = 10000)"
   ]
  },
  {
   "cell_type": "code",
   "execution_count": 3,
   "metadata": {
    "colab": {
     "base_uri": "https://localhost:8080/",
     "height": 1000
    },
    "id": "NWrs3l0oLW_m",
    "outputId": "2c761e75-a1ee-4920-c0ea-5a98135d6525"
   },
   "outputs": [
    {
     "data": {
      "text/html": [
       "<div>\n",
       "<style scoped>\n",
       "    .dataframe tbody tr th:only-of-type {\n",
       "        vertical-align: middle;\n",
       "    }\n",
       "\n",
       "    .dataframe tbody tr th {\n",
       "        vertical-align: top;\n",
       "    }\n",
       "\n",
       "    .dataframe thead th {\n",
       "        text-align: right;\n",
       "    }\n",
       "</style>\n",
       "<table border=\"1\" class=\"dataframe\">\n",
       "  <thead>\n",
       "    <tr style=\"text-align: right;\">\n",
       "      <th></th>\n",
       "      <th>TRANSACTIONID</th>\n",
       "      <th>FLIGHTDATE</th>\n",
       "      <th>AIRLINECODE</th>\n",
       "      <th>AIRLINENAME</th>\n",
       "      <th>TAILNUM</th>\n",
       "      <th>FLIGHTNUM</th>\n",
       "      <th>ORIGINAIRPORTCODE</th>\n",
       "      <th>ORIGAIRPORTNAME</th>\n",
       "      <th>ORIGINCITYNAME</th>\n",
       "      <th>ORIGINSTATE</th>\n",
       "      <th>...</th>\n",
       "      <th>WHEELSON</th>\n",
       "      <th>TAXIIN</th>\n",
       "      <th>CRSARRTIME</th>\n",
       "      <th>ARRTIME</th>\n",
       "      <th>ARRDELAY</th>\n",
       "      <th>CRSELAPSEDTIME</th>\n",
       "      <th>ACTUALELAPSEDTIME</th>\n",
       "      <th>CANCELLED</th>\n",
       "      <th>DIVERTED</th>\n",
       "      <th>DISTANCE</th>\n",
       "    </tr>\n",
       "  </thead>\n",
       "  <tbody>\n",
       "    <tr>\n",
       "      <th>0</th>\n",
       "      <td>54548800</td>\n",
       "      <td>20020101</td>\n",
       "      <td>WN</td>\n",
       "      <td>Southwest Airlines Co.: WN</td>\n",
       "      <td>N103@@</td>\n",
       "      <td>1425</td>\n",
       "      <td>ABQ</td>\n",
       "      <td>AlbuquerqueNM: Albuquerque International Sunport</td>\n",
       "      <td>Albuquerque</td>\n",
       "      <td>NM</td>\n",
       "      <td>...</td>\n",
       "      <td>1648.0</td>\n",
       "      <td>4.0</td>\n",
       "      <td>1655</td>\n",
       "      <td>1652.0</td>\n",
       "      <td>-3.0</td>\n",
       "      <td>90</td>\n",
       "      <td>87.0</td>\n",
       "      <td>F</td>\n",
       "      <td>False</td>\n",
       "      <td>580 miles</td>\n",
       "    </tr>\n",
       "    <tr>\n",
       "      <th>1</th>\n",
       "      <td>55872300</td>\n",
       "      <td>20020101</td>\n",
       "      <td>CO</td>\n",
       "      <td>Continental Air Lines Inc.: CO</td>\n",
       "      <td>N83872</td>\n",
       "      <td>150</td>\n",
       "      <td>ABQ</td>\n",
       "      <td>AlbuquerqueNM: Albuquerque International Sunport</td>\n",
       "      <td>Albuquerque</td>\n",
       "      <td>NM</td>\n",
       "      <td>...</td>\n",
       "      <td>1419.0</td>\n",
       "      <td>16.0</td>\n",
       "      <td>1426</td>\n",
       "      <td>1435.0</td>\n",
       "      <td>9.0</td>\n",
       "      <td>116</td>\n",
       "      <td>119.0</td>\n",
       "      <td>False</td>\n",
       "      <td>F</td>\n",
       "      <td>744 miles</td>\n",
       "    </tr>\n",
       "    <tr>\n",
       "      <th>2</th>\n",
       "      <td>54388800</td>\n",
       "      <td>20020101</td>\n",
       "      <td>WN</td>\n",
       "      <td>Southwest Airlines Co.: WN</td>\n",
       "      <td>N334@@</td>\n",
       "      <td>249</td>\n",
       "      <td>ABQ</td>\n",
       "      <td>AlbuquerqueNM: Albuquerque International Sunport</td>\n",
       "      <td>Albuquerque</td>\n",
       "      <td>NM</td>\n",
       "      <td>...</td>\n",
       "      <td>1618.0</td>\n",
       "      <td>2.0</td>\n",
       "      <td>1500</td>\n",
       "      <td>1620.0</td>\n",
       "      <td>80.0</td>\n",
       "      <td>105</td>\n",
       "      <td>102.0</td>\n",
       "      <td>F</td>\n",
       "      <td>False</td>\n",
       "      <td>718 miles</td>\n",
       "    </tr>\n",
       "    <tr>\n",
       "      <th>3</th>\n",
       "      <td>54486500</td>\n",
       "      <td>20020101</td>\n",
       "      <td>WN</td>\n",
       "      <td>Southwest Airlines Co.: WN</td>\n",
       "      <td>N699@@</td>\n",
       "      <td>902</td>\n",
       "      <td>ABQ</td>\n",
       "      <td>AlbuquerqueNM: Albuquerque International Sunport</td>\n",
       "      <td>Albuquerque</td>\n",
       "      <td>NM</td>\n",
       "      <td>...</td>\n",
       "      <td>1947.0</td>\n",
       "      <td>1.0</td>\n",
       "      <td>1950</td>\n",
       "      <td>1948.0</td>\n",
       "      <td>-2.0</td>\n",
       "      <td>85</td>\n",
       "      <td>83.0</td>\n",
       "      <td>0</td>\n",
       "      <td>0</td>\n",
       "      <td>487 miles</td>\n",
       "    </tr>\n",
       "    <tr>\n",
       "      <th>4</th>\n",
       "      <td>55878700</td>\n",
       "      <td>20020103</td>\n",
       "      <td>CO</td>\n",
       "      <td>Continental Air Lines Inc.: CO</td>\n",
       "      <td>N58606</td>\n",
       "      <td>234</td>\n",
       "      <td>ABQ</td>\n",
       "      <td>AlbuquerqueNM: Albuquerque International Sunport</td>\n",
       "      <td>Albuquerque</td>\n",
       "      <td>NM</td>\n",
       "      <td>...</td>\n",
       "      <td>1742.0</td>\n",
       "      <td>5.0</td>\n",
       "      <td>1750</td>\n",
       "      <td>1747.0</td>\n",
       "      <td>-3.0</td>\n",
       "      <td>115</td>\n",
       "      <td>114.0</td>\n",
       "      <td>F</td>\n",
       "      <td>False</td>\n",
       "      <td>744 miles</td>\n",
       "    </tr>\n",
       "  </tbody>\n",
       "</table>\n",
       "<p>5 rows × 31 columns</p>\n",
       "</div>"
      ],
      "text/plain": [
       "   TRANSACTIONID  FLIGHTDATE AIRLINECODE                     AIRLINENAME  \\\n",
       "0       54548800    20020101          WN      Southwest Airlines Co.: WN   \n",
       "1       55872300    20020101          CO  Continental Air Lines Inc.: CO   \n",
       "2       54388800    20020101          WN      Southwest Airlines Co.: WN   \n",
       "3       54486500    20020101          WN      Southwest Airlines Co.: WN   \n",
       "4       55878700    20020103          CO  Continental Air Lines Inc.: CO   \n",
       "\n",
       "  TAILNUM  FLIGHTNUM ORIGINAIRPORTCODE  \\\n",
       "0  N103@@       1425               ABQ   \n",
       "1  N83872        150               ABQ   \n",
       "2  N334@@        249               ABQ   \n",
       "3  N699@@        902               ABQ   \n",
       "4  N58606        234               ABQ   \n",
       "\n",
       "                                    ORIGAIRPORTNAME ORIGINCITYNAME  \\\n",
       "0  AlbuquerqueNM: Albuquerque International Sunport    Albuquerque   \n",
       "1  AlbuquerqueNM: Albuquerque International Sunport    Albuquerque   \n",
       "2  AlbuquerqueNM: Albuquerque International Sunport    Albuquerque   \n",
       "3  AlbuquerqueNM: Albuquerque International Sunport    Albuquerque   \n",
       "4  AlbuquerqueNM: Albuquerque International Sunport    Albuquerque   \n",
       "\n",
       "  ORIGINSTATE  ... WHEELSON TAXIIN CRSARRTIME ARRTIME ARRDELAY CRSELAPSEDTIME  \\\n",
       "0          NM  ...   1648.0    4.0       1655  1652.0     -3.0             90   \n",
       "1          NM  ...   1419.0   16.0       1426  1435.0      9.0            116   \n",
       "2          NM  ...   1618.0    2.0       1500  1620.0     80.0            105   \n",
       "3          NM  ...   1947.0    1.0       1950  1948.0     -2.0             85   \n",
       "4          NM  ...   1742.0    5.0       1750  1747.0     -3.0            115   \n",
       "\n",
       "   ACTUALELAPSEDTIME  CANCELLED  DIVERTED   DISTANCE  \n",
       "0               87.0          F     False  580 miles  \n",
       "1              119.0      False         F  744 miles  \n",
       "2              102.0          F     False  718 miles  \n",
       "3               83.0          0         0  487 miles  \n",
       "4              114.0          F     False  744 miles  \n",
       "\n",
       "[5 rows x 31 columns]"
      ]
     },
     "execution_count": 3,
     "metadata": {},
     "output_type": "execute_result"
    }
   ],
   "source": [
    "df.head()"
   ]
  },
  {
   "cell_type": "code",
   "execution_count": 4,
   "metadata": {},
   "outputs": [
    {
     "data": {
      "text/plain": [
       "dtype('int64')"
      ]
     },
     "execution_count": 4,
     "metadata": {},
     "output_type": "execute_result"
    }
   ],
   "source": [
    "#Igualar el tipo de dato en la columna CANCELLED\n",
    "df.CANCELLED.replace({\"False\": 0, \"F\": 0, \"0\": 0}, inplace = True)\n",
    "df.CANCELLED.replace({\"True\": 1, \"T\": 1, \"1\": 1}, inplace = True)\n",
    "df.CANCELLED.dtype"
   ]
  },
  {
   "cell_type": "code",
   "execution_count": 5,
   "metadata": {},
   "outputs": [
    {
     "data": {
      "text/plain": [
       "dtype('int64')"
      ]
     },
     "execution_count": 5,
     "metadata": {},
     "output_type": "execute_result"
    }
   ],
   "source": [
    "#Igualar el tipo de dato en la columna DIVERTED\n",
    "df.DIVERTED.replace({\"False\": 0, \"F\": 0, \"0\": 0}, inplace = True)\n",
    "df.DIVERTED.replace({\"True\": 1, \"T\": 1, \"1\": 1}, inplace = True)\n",
    "df.DIVERTED.dtype"
   ]
  },
  {
   "cell_type": "code",
   "execution_count": 6,
   "metadata": {},
   "outputs": [],
   "source": [
    "distancias= df.DISTANCE.str.split(expand=True)\n",
    "distancias.columns = ['DISTANCIA', 'UNIDAD']"
   ]
  },
  {
   "cell_type": "code",
   "execution_count": 7,
   "metadata": {
    "scrolled": true
   },
   "outputs": [],
   "source": [
    "df = pd.concat([df, distancias], axis=1)\n",
    "df.DISTANCIA = df.DISTANCIA.astype(\"int64\")"
   ]
  },
  {
   "cell_type": "code",
   "execution_count": 8,
   "metadata": {},
   "outputs": [
    {
     "data": {
      "text/html": [
       "<div>\n",
       "<style scoped>\n",
       "    .dataframe tbody tr th:only-of-type {\n",
       "        vertical-align: middle;\n",
       "    }\n",
       "\n",
       "    .dataframe tbody tr th {\n",
       "        vertical-align: top;\n",
       "    }\n",
       "\n",
       "    .dataframe thead th {\n",
       "        text-align: right;\n",
       "    }\n",
       "</style>\n",
       "<table border=\"1\" class=\"dataframe\">\n",
       "  <thead>\n",
       "    <tr style=\"text-align: right;\">\n",
       "      <th></th>\n",
       "      <th>TRANSACTIONID</th>\n",
       "      <th>FLIGHTDATE</th>\n",
       "      <th>AIRLINECODE</th>\n",
       "      <th>AIRLINENAME</th>\n",
       "      <th>TAILNUM</th>\n",
       "      <th>FLIGHTNUM</th>\n",
       "      <th>ORIGINAIRPORTCODE</th>\n",
       "      <th>ORIGAIRPORTNAME</th>\n",
       "      <th>ORIGINCITYNAME</th>\n",
       "      <th>ORIGINSTATE</th>\n",
       "      <th>...</th>\n",
       "      <th>CRSARRTIME</th>\n",
       "      <th>ARRTIME</th>\n",
       "      <th>ARRDELAY</th>\n",
       "      <th>CRSELAPSEDTIME</th>\n",
       "      <th>ACTUALELAPSEDTIME</th>\n",
       "      <th>CANCELLED</th>\n",
       "      <th>DIVERTED</th>\n",
       "      <th>DISTANCE</th>\n",
       "      <th>DISTANCIA</th>\n",
       "      <th>UNIDAD</th>\n",
       "    </tr>\n",
       "  </thead>\n",
       "  <tbody>\n",
       "    <tr>\n",
       "      <th>0</th>\n",
       "      <td>54548800</td>\n",
       "      <td>20020101</td>\n",
       "      <td>WN</td>\n",
       "      <td>Southwest Airlines Co.: WN</td>\n",
       "      <td>N103@@</td>\n",
       "      <td>1425</td>\n",
       "      <td>ABQ</td>\n",
       "      <td>AlbuquerqueNM: Albuquerque International Sunport</td>\n",
       "      <td>Albuquerque</td>\n",
       "      <td>NM</td>\n",
       "      <td>...</td>\n",
       "      <td>1655</td>\n",
       "      <td>1652.0</td>\n",
       "      <td>-3.0</td>\n",
       "      <td>90</td>\n",
       "      <td>87.0</td>\n",
       "      <td>0</td>\n",
       "      <td>0</td>\n",
       "      <td>580 miles</td>\n",
       "      <td>580</td>\n",
       "      <td>miles</td>\n",
       "    </tr>\n",
       "    <tr>\n",
       "      <th>1</th>\n",
       "      <td>55872300</td>\n",
       "      <td>20020101</td>\n",
       "      <td>CO</td>\n",
       "      <td>Continental Air Lines Inc.: CO</td>\n",
       "      <td>N83872</td>\n",
       "      <td>150</td>\n",
       "      <td>ABQ</td>\n",
       "      <td>AlbuquerqueNM: Albuquerque International Sunport</td>\n",
       "      <td>Albuquerque</td>\n",
       "      <td>NM</td>\n",
       "      <td>...</td>\n",
       "      <td>1426</td>\n",
       "      <td>1435.0</td>\n",
       "      <td>9.0</td>\n",
       "      <td>116</td>\n",
       "      <td>119.0</td>\n",
       "      <td>0</td>\n",
       "      <td>0</td>\n",
       "      <td>744 miles</td>\n",
       "      <td>744</td>\n",
       "      <td>miles</td>\n",
       "    </tr>\n",
       "    <tr>\n",
       "      <th>2</th>\n",
       "      <td>54388800</td>\n",
       "      <td>20020101</td>\n",
       "      <td>WN</td>\n",
       "      <td>Southwest Airlines Co.: WN</td>\n",
       "      <td>N334@@</td>\n",
       "      <td>249</td>\n",
       "      <td>ABQ</td>\n",
       "      <td>AlbuquerqueNM: Albuquerque International Sunport</td>\n",
       "      <td>Albuquerque</td>\n",
       "      <td>NM</td>\n",
       "      <td>...</td>\n",
       "      <td>1500</td>\n",
       "      <td>1620.0</td>\n",
       "      <td>80.0</td>\n",
       "      <td>105</td>\n",
       "      <td>102.0</td>\n",
       "      <td>0</td>\n",
       "      <td>0</td>\n",
       "      <td>718 miles</td>\n",
       "      <td>718</td>\n",
       "      <td>miles</td>\n",
       "    </tr>\n",
       "    <tr>\n",
       "      <th>3</th>\n",
       "      <td>54486500</td>\n",
       "      <td>20020101</td>\n",
       "      <td>WN</td>\n",
       "      <td>Southwest Airlines Co.: WN</td>\n",
       "      <td>N699@@</td>\n",
       "      <td>902</td>\n",
       "      <td>ABQ</td>\n",
       "      <td>AlbuquerqueNM: Albuquerque International Sunport</td>\n",
       "      <td>Albuquerque</td>\n",
       "      <td>NM</td>\n",
       "      <td>...</td>\n",
       "      <td>1950</td>\n",
       "      <td>1948.0</td>\n",
       "      <td>-2.0</td>\n",
       "      <td>85</td>\n",
       "      <td>83.0</td>\n",
       "      <td>0</td>\n",
       "      <td>0</td>\n",
       "      <td>487 miles</td>\n",
       "      <td>487</td>\n",
       "      <td>miles</td>\n",
       "    </tr>\n",
       "    <tr>\n",
       "      <th>4</th>\n",
       "      <td>55878700</td>\n",
       "      <td>20020103</td>\n",
       "      <td>CO</td>\n",
       "      <td>Continental Air Lines Inc.: CO</td>\n",
       "      <td>N58606</td>\n",
       "      <td>234</td>\n",
       "      <td>ABQ</td>\n",
       "      <td>AlbuquerqueNM: Albuquerque International Sunport</td>\n",
       "      <td>Albuquerque</td>\n",
       "      <td>NM</td>\n",
       "      <td>...</td>\n",
       "      <td>1750</td>\n",
       "      <td>1747.0</td>\n",
       "      <td>-3.0</td>\n",
       "      <td>115</td>\n",
       "      <td>114.0</td>\n",
       "      <td>0</td>\n",
       "      <td>0</td>\n",
       "      <td>744 miles</td>\n",
       "      <td>744</td>\n",
       "      <td>miles</td>\n",
       "    </tr>\n",
       "    <tr>\n",
       "      <th>...</th>\n",
       "      <td>...</td>\n",
       "      <td>...</td>\n",
       "      <td>...</td>\n",
       "      <td>...</td>\n",
       "      <td>...</td>\n",
       "      <td>...</td>\n",
       "      <td>...</td>\n",
       "      <td>...</td>\n",
       "      <td>...</td>\n",
       "      <td>...</td>\n",
       "      <td>...</td>\n",
       "      <td>...</td>\n",
       "      <td>...</td>\n",
       "      <td>...</td>\n",
       "      <td>...</td>\n",
       "      <td>...</td>\n",
       "      <td>...</td>\n",
       "      <td>...</td>\n",
       "      <td>...</td>\n",
       "      <td>...</td>\n",
       "      <td>...</td>\n",
       "    </tr>\n",
       "    <tr>\n",
       "      <th>9994</th>\n",
       "      <td>41549900</td>\n",
       "      <td>19990907</td>\n",
       "      <td>DL</td>\n",
       "      <td>Delta Air Lines Inc.: DL</td>\n",
       "      <td>N974DL</td>\n",
       "      <td>1082</td>\n",
       "      <td>ATL</td>\n",
       "      <td>AtlantaGA: Hartsfield-Jackson Atlanta Internat...</td>\n",
       "      <td>Atlanta</td>\n",
       "      <td>GA</td>\n",
       "      <td>...</td>\n",
       "      <td>1616</td>\n",
       "      <td>1612.0</td>\n",
       "      <td>-4.0</td>\n",
       "      <td>146</td>\n",
       "      <td>141.0</td>\n",
       "      <td>0</td>\n",
       "      <td>0</td>\n",
       "      <td>903 miles</td>\n",
       "      <td>903</td>\n",
       "      <td>miles</td>\n",
       "    </tr>\n",
       "    <tr>\n",
       "      <th>9995</th>\n",
       "      <td>40762900</td>\n",
       "      <td>19990908</td>\n",
       "      <td>DL</td>\n",
       "      <td>Delta Air Lines Inc.: DL</td>\n",
       "      <td>N635DL</td>\n",
       "      <td>852</td>\n",
       "      <td>ATL</td>\n",
       "      <td>AtlantaGA: Hartsfield-Jackson Atlanta Internat...</td>\n",
       "      <td>Atlanta</td>\n",
       "      <td>GA</td>\n",
       "      <td>...</td>\n",
       "      <td>1950</td>\n",
       "      <td>2021.0</td>\n",
       "      <td>31.0</td>\n",
       "      <td>115</td>\n",
       "      <td>130.0</td>\n",
       "      <td>0</td>\n",
       "      <td>0</td>\n",
       "      <td>576 miles</td>\n",
       "      <td>576</td>\n",
       "      <td>miles</td>\n",
       "    </tr>\n",
       "    <tr>\n",
       "      <th>9996</th>\n",
       "      <td>42101000</td>\n",
       "      <td>19990908</td>\n",
       "      <td>DL</td>\n",
       "      <td>Delta Air Lines Inc.: DL</td>\n",
       "      <td>N765DA</td>\n",
       "      <td>1127</td>\n",
       "      <td>ATL</td>\n",
       "      <td>AtlantaGA: Hartsfield-Jackson Atlanta Internat...</td>\n",
       "      <td>Atlanta</td>\n",
       "      <td>GA</td>\n",
       "      <td>...</td>\n",
       "      <td>1152</td>\n",
       "      <td>1227.0</td>\n",
       "      <td>35.0</td>\n",
       "      <td>107</td>\n",
       "      <td>111.0</td>\n",
       "      <td>0</td>\n",
       "      <td>0</td>\n",
       "      <td>581 miles</td>\n",
       "      <td>581</td>\n",
       "      <td>miles</td>\n",
       "    </tr>\n",
       "    <tr>\n",
       "      <th>9997</th>\n",
       "      <td>42126400</td>\n",
       "      <td>19990908</td>\n",
       "      <td>DL</td>\n",
       "      <td>Delta Air Lines Inc.: DL</td>\n",
       "      <td>N543DA</td>\n",
       "      <td>1247</td>\n",
       "      <td>ATL</td>\n",
       "      <td>AtlantaGA: Hartsfield-Jackson Atlanta Internat...</td>\n",
       "      <td>Atlanta</td>\n",
       "      <td>GA</td>\n",
       "      <td>...</td>\n",
       "      <td>1840</td>\n",
       "      <td>1835.0</td>\n",
       "      <td>-5.0</td>\n",
       "      <td>70</td>\n",
       "      <td>65.0</td>\n",
       "      <td>0</td>\n",
       "      <td>0</td>\n",
       "      <td>306 miles</td>\n",
       "      <td>306</td>\n",
       "      <td>miles</td>\n",
       "    </tr>\n",
       "    <tr>\n",
       "      <th>9999</th>\n",
       "      <td>41393300</td>\n",
       "      <td>19990908</td>\n",
       "      <td>DL</td>\n",
       "      <td>Delta Air Lines Inc.: DL</td>\n",
       "      <td>N139DL</td>\n",
       "      <td>284</td>\n",
       "      <td>ATL</td>\n",
       "      <td>AtlantaGA: Hartsfield-Jackson Atlanta Internat...</td>\n",
       "      <td>Atlanta</td>\n",
       "      <td>GA</td>\n",
       "      <td>...</td>\n",
       "      <td>2352</td>\n",
       "      <td>2344.0</td>\n",
       "      <td>-8.0</td>\n",
       "      <td>107</td>\n",
       "      <td>102.0</td>\n",
       "      <td>0</td>\n",
       "      <td>0</td>\n",
       "      <td>545 miles</td>\n",
       "      <td>545</td>\n",
       "      <td>miles</td>\n",
       "    </tr>\n",
       "  </tbody>\n",
       "</table>\n",
       "<p>9742 rows × 33 columns</p>\n",
       "</div>"
      ],
      "text/plain": [
       "      TRANSACTIONID  FLIGHTDATE AIRLINECODE                     AIRLINENAME  \\\n",
       "0          54548800    20020101          WN      Southwest Airlines Co.: WN   \n",
       "1          55872300    20020101          CO  Continental Air Lines Inc.: CO   \n",
       "2          54388800    20020101          WN      Southwest Airlines Co.: WN   \n",
       "3          54486500    20020101          WN      Southwest Airlines Co.: WN   \n",
       "4          55878700    20020103          CO  Continental Air Lines Inc.: CO   \n",
       "...             ...         ...         ...                             ...   \n",
       "9994       41549900    19990907          DL        Delta Air Lines Inc.: DL   \n",
       "9995       40762900    19990908          DL        Delta Air Lines Inc.: DL   \n",
       "9996       42101000    19990908          DL        Delta Air Lines Inc.: DL   \n",
       "9997       42126400    19990908          DL        Delta Air Lines Inc.: DL   \n",
       "9999       41393300    19990908          DL        Delta Air Lines Inc.: DL   \n",
       "\n",
       "     TAILNUM  FLIGHTNUM ORIGINAIRPORTCODE  \\\n",
       "0     N103@@       1425               ABQ   \n",
       "1     N83872        150               ABQ   \n",
       "2     N334@@        249               ABQ   \n",
       "3     N699@@        902               ABQ   \n",
       "4     N58606        234               ABQ   \n",
       "...      ...        ...               ...   \n",
       "9994  N974DL       1082               ATL   \n",
       "9995  N635DL        852               ATL   \n",
       "9996  N765DA       1127               ATL   \n",
       "9997  N543DA       1247               ATL   \n",
       "9999  N139DL        284               ATL   \n",
       "\n",
       "                                        ORIGAIRPORTNAME ORIGINCITYNAME  \\\n",
       "0      AlbuquerqueNM: Albuquerque International Sunport    Albuquerque   \n",
       "1      AlbuquerqueNM: Albuquerque International Sunport    Albuquerque   \n",
       "2      AlbuquerqueNM: Albuquerque International Sunport    Albuquerque   \n",
       "3      AlbuquerqueNM: Albuquerque International Sunport    Albuquerque   \n",
       "4      AlbuquerqueNM: Albuquerque International Sunport    Albuquerque   \n",
       "...                                                 ...            ...   \n",
       "9994  AtlantaGA: Hartsfield-Jackson Atlanta Internat...        Atlanta   \n",
       "9995  AtlantaGA: Hartsfield-Jackson Atlanta Internat...        Atlanta   \n",
       "9996  AtlantaGA: Hartsfield-Jackson Atlanta Internat...        Atlanta   \n",
       "9997  AtlantaGA: Hartsfield-Jackson Atlanta Internat...        Atlanta   \n",
       "9999  AtlantaGA: Hartsfield-Jackson Atlanta Internat...        Atlanta   \n",
       "\n",
       "     ORIGINSTATE  ... CRSARRTIME ARRTIME ARRDELAY CRSELAPSEDTIME  \\\n",
       "0             NM  ...       1655  1652.0     -3.0             90   \n",
       "1             NM  ...       1426  1435.0      9.0            116   \n",
       "2             NM  ...       1500  1620.0     80.0            105   \n",
       "3             NM  ...       1950  1948.0     -2.0             85   \n",
       "4             NM  ...       1750  1747.0     -3.0            115   \n",
       "...          ...  ...        ...     ...      ...            ...   \n",
       "9994          GA  ...       1616  1612.0     -4.0            146   \n",
       "9995          GA  ...       1950  2021.0     31.0            115   \n",
       "9996          GA  ...       1152  1227.0     35.0            107   \n",
       "9997          GA  ...       1840  1835.0     -5.0             70   \n",
       "9999          GA  ...       2352  2344.0     -8.0            107   \n",
       "\n",
       "     ACTUALELAPSEDTIME CANCELLED  DIVERTED   DISTANCE  DISTANCIA  UNIDAD  \n",
       "0                 87.0         0         0  580 miles        580   miles  \n",
       "1                119.0         0         0  744 miles        744   miles  \n",
       "2                102.0         0         0  718 miles        718   miles  \n",
       "3                 83.0         0         0  487 miles        487   miles  \n",
       "4                114.0         0         0  744 miles        744   miles  \n",
       "...                ...       ...       ...        ...        ...     ...  \n",
       "9994             141.0         0         0  903 miles        903   miles  \n",
       "9995             130.0         0         0  576 miles        576   miles  \n",
       "9996             111.0         0         0  581 miles        581   miles  \n",
       "9997              65.0         0         0  306 miles        306   miles  \n",
       "9999             102.0         0         0  545 miles        545   miles  \n",
       "\n",
       "[9742 rows x 33 columns]"
      ]
     },
     "execution_count": 8,
     "metadata": {},
     "output_type": "execute_result"
    }
   ],
   "source": [
    "df = df[df['ARRDELAY'].notna()]\n",
    "df"
   ]
  },
  {
   "cell_type": "code",
   "execution_count": 9,
   "metadata": {
    "id": "HixfHso4LW_n"
   },
   "outputs": [
    {
     "data": {
      "text/html": [
       "<div>\n",
       "<style scoped>\n",
       "    .dataframe tbody tr th:only-of-type {\n",
       "        vertical-align: middle;\n",
       "    }\n",
       "\n",
       "    .dataframe tbody tr th {\n",
       "        vertical-align: top;\n",
       "    }\n",
       "\n",
       "    .dataframe thead th {\n",
       "        text-align: right;\n",
       "    }\n",
       "</style>\n",
       "<table border=\"1\" class=\"dataframe\">\n",
       "  <thead>\n",
       "    <tr style=\"text-align: right;\">\n",
       "      <th></th>\n",
       "      <th>ARRDELAY</th>\n",
       "      <th>DISTANCIA</th>\n",
       "    </tr>\n",
       "  </thead>\n",
       "  <tbody>\n",
       "    <tr>\n",
       "      <th>0</th>\n",
       "      <td>-3.0</td>\n",
       "      <td>580</td>\n",
       "    </tr>\n",
       "    <tr>\n",
       "      <th>1</th>\n",
       "      <td>9.0</td>\n",
       "      <td>744</td>\n",
       "    </tr>\n",
       "    <tr>\n",
       "      <th>2</th>\n",
       "      <td>80.0</td>\n",
       "      <td>718</td>\n",
       "    </tr>\n",
       "    <tr>\n",
       "      <th>3</th>\n",
       "      <td>-2.0</td>\n",
       "      <td>487</td>\n",
       "    </tr>\n",
       "    <tr>\n",
       "      <th>4</th>\n",
       "      <td>-3.0</td>\n",
       "      <td>744</td>\n",
       "    </tr>\n",
       "    <tr>\n",
       "      <th>...</th>\n",
       "      <td>...</td>\n",
       "      <td>...</td>\n",
       "    </tr>\n",
       "    <tr>\n",
       "      <th>9994</th>\n",
       "      <td>-4.0</td>\n",
       "      <td>903</td>\n",
       "    </tr>\n",
       "    <tr>\n",
       "      <th>9995</th>\n",
       "      <td>31.0</td>\n",
       "      <td>576</td>\n",
       "    </tr>\n",
       "    <tr>\n",
       "      <th>9996</th>\n",
       "      <td>35.0</td>\n",
       "      <td>581</td>\n",
       "    </tr>\n",
       "    <tr>\n",
       "      <th>9997</th>\n",
       "      <td>-5.0</td>\n",
       "      <td>306</td>\n",
       "    </tr>\n",
       "    <tr>\n",
       "      <th>9999</th>\n",
       "      <td>-8.0</td>\n",
       "      <td>545</td>\n",
       "    </tr>\n",
       "  </tbody>\n",
       "</table>\n",
       "<p>9742 rows × 2 columns</p>\n",
       "</div>"
      ],
      "text/plain": [
       "      ARRDELAY  DISTANCIA\n",
       "0         -3.0        580\n",
       "1          9.0        744\n",
       "2         80.0        718\n",
       "3         -2.0        487\n",
       "4         -3.0        744\n",
       "...        ...        ...\n",
       "9994      -4.0        903\n",
       "9995      31.0        576\n",
       "9996      35.0        581\n",
       "9997      -5.0        306\n",
       "9999      -8.0        545\n",
       "\n",
       "[9742 rows x 2 columns]"
      ]
     },
     "execution_count": 9,
     "metadata": {},
     "output_type": "execute_result"
    }
   ],
   "source": [
    "X = df.iloc[:,[-8,-2]]\n",
    "X"
   ]
  },
  {
   "cell_type": "code",
   "execution_count": 10,
   "metadata": {
    "id": "LFrectCgLW_n"
   },
   "outputs": [],
   "source": [
    "sc = StandardScaler()"
   ]
  },
  {
   "cell_type": "code",
   "execution_count": 11,
   "metadata": {
    "id": "MJVW3da-LW_o",
    "outputId": "c414a601-1a91-409e-fc24-4d8e16ced851"
   },
   "outputs": [
    {
     "data": {
      "text/html": [
       "<style>#sk-container-id-1 {color: black;background-color: white;}#sk-container-id-1 pre{padding: 0;}#sk-container-id-1 div.sk-toggleable {background-color: white;}#sk-container-id-1 label.sk-toggleable__label {cursor: pointer;display: block;width: 100%;margin-bottom: 0;padding: 0.3em;box-sizing: border-box;text-align: center;}#sk-container-id-1 label.sk-toggleable__label-arrow:before {content: \"▸\";float: left;margin-right: 0.25em;color: #696969;}#sk-container-id-1 label.sk-toggleable__label-arrow:hover:before {color: black;}#sk-container-id-1 div.sk-estimator:hover label.sk-toggleable__label-arrow:before {color: black;}#sk-container-id-1 div.sk-toggleable__content {max-height: 0;max-width: 0;overflow: hidden;text-align: left;background-color: #f0f8ff;}#sk-container-id-1 div.sk-toggleable__content pre {margin: 0.2em;color: black;border-radius: 0.25em;background-color: #f0f8ff;}#sk-container-id-1 input.sk-toggleable__control:checked~div.sk-toggleable__content {max-height: 200px;max-width: 100%;overflow: auto;}#sk-container-id-1 input.sk-toggleable__control:checked~label.sk-toggleable__label-arrow:before {content: \"▾\";}#sk-container-id-1 div.sk-estimator input.sk-toggleable__control:checked~label.sk-toggleable__label {background-color: #d4ebff;}#sk-container-id-1 div.sk-label input.sk-toggleable__control:checked~label.sk-toggleable__label {background-color: #d4ebff;}#sk-container-id-1 input.sk-hidden--visually {border: 0;clip: rect(1px 1px 1px 1px);clip: rect(1px, 1px, 1px, 1px);height: 1px;margin: -1px;overflow: hidden;padding: 0;position: absolute;width: 1px;}#sk-container-id-1 div.sk-estimator {font-family: monospace;background-color: #f0f8ff;border: 1px dotted black;border-radius: 0.25em;box-sizing: border-box;margin-bottom: 0.5em;}#sk-container-id-1 div.sk-estimator:hover {background-color: #d4ebff;}#sk-container-id-1 div.sk-parallel-item::after {content: \"\";width: 100%;border-bottom: 1px solid gray;flex-grow: 1;}#sk-container-id-1 div.sk-label:hover label.sk-toggleable__label {background-color: #d4ebff;}#sk-container-id-1 div.sk-serial::before {content: \"\";position: absolute;border-left: 1px solid gray;box-sizing: border-box;top: 0;bottom: 0;left: 50%;z-index: 0;}#sk-container-id-1 div.sk-serial {display: flex;flex-direction: column;align-items: center;background-color: white;padding-right: 0.2em;padding-left: 0.2em;position: relative;}#sk-container-id-1 div.sk-item {position: relative;z-index: 1;}#sk-container-id-1 div.sk-parallel {display: flex;align-items: stretch;justify-content: center;background-color: white;position: relative;}#sk-container-id-1 div.sk-item::before, #sk-container-id-1 div.sk-parallel-item::before {content: \"\";position: absolute;border-left: 1px solid gray;box-sizing: border-box;top: 0;bottom: 0;left: 50%;z-index: -1;}#sk-container-id-1 div.sk-parallel-item {display: flex;flex-direction: column;z-index: 1;position: relative;background-color: white;}#sk-container-id-1 div.sk-parallel-item:first-child::after {align-self: flex-end;width: 50%;}#sk-container-id-1 div.sk-parallel-item:last-child::after {align-self: flex-start;width: 50%;}#sk-container-id-1 div.sk-parallel-item:only-child::after {width: 0;}#sk-container-id-1 div.sk-dashed-wrapped {border: 1px dashed gray;margin: 0 0.4em 0.5em 0.4em;box-sizing: border-box;padding-bottom: 0.4em;background-color: white;}#sk-container-id-1 div.sk-label label {font-family: monospace;font-weight: bold;display: inline-block;line-height: 1.2em;}#sk-container-id-1 div.sk-label-container {text-align: center;}#sk-container-id-1 div.sk-container {/* jupyter's `normalize.less` sets `[hidden] { display: none; }` but bootstrap.min.css set `[hidden] { display: none !important; }` so we also need the `!important` here to be able to override the default hidden behavior on the sphinx rendered scikit-learn.org. See: https://github.com/scikit-learn/scikit-learn/issues/21755 */display: inline-block !important;position: relative;}#sk-container-id-1 div.sk-text-repr-fallback {display: none;}</style><div id=\"sk-container-id-1\" class=\"sk-top-container\"><div class=\"sk-text-repr-fallback\"><pre>StandardScaler()</pre><b>In a Jupyter environment, please rerun this cell to show the HTML representation or trust the notebook. <br />On GitHub, the HTML representation is unable to render, please try loading this page with nbviewer.org.</b></div><div class=\"sk-container\" hidden><div class=\"sk-item\"><div class=\"sk-estimator sk-toggleable\"><input class=\"sk-toggleable__control sk-hidden--visually\" id=\"sk-estimator-id-1\" type=\"checkbox\" checked><label for=\"sk-estimator-id-1\" class=\"sk-toggleable__label sk-toggleable__label-arrow\">StandardScaler</label><div class=\"sk-toggleable__content\"><pre>StandardScaler()</pre></div></div></div></div></div>"
      ],
      "text/plain": [
       "StandardScaler()"
      ]
     },
     "execution_count": 11,
     "metadata": {},
     "output_type": "execute_result"
    }
   ],
   "source": [
    "sc.fit(X)"
   ]
  },
  {
   "cell_type": "code",
   "execution_count": 12,
   "metadata": {
    "id": "hahKqQ1LLW_o"
   },
   "outputs": [
    {
     "data": {
      "text/plain": [
       "array([[-0.22906873,  0.01754693],\n",
       "       [ 0.15001779,  0.42977694],\n",
       "       [ 2.39294639,  0.3644234 ],\n",
       "       ...,\n",
       "       [ 0.97137193,  0.02006053],\n",
       "       [-0.29224982, -0.6711788 ],\n",
       "       [-0.38702145, -0.07042898]])"
      ]
     },
     "execution_count": 12,
     "metadata": {},
     "output_type": "execute_result"
    }
   ],
   "source": [
    "X_norm = sc.transform(X)\n",
    "X_norm"
   ]
  },
  {
   "cell_type": "code",
   "execution_count": 13,
   "metadata": {
    "id": "aTE-l0xkLW_o",
    "outputId": "5475ab16-9a93-4cd2-c95a-a11fc4882566"
   },
   "outputs": [
    {
     "data": {
      "text/plain": [
       "(9742, 2)"
      ]
     },
     "execution_count": 13,
     "metadata": {},
     "output_type": "execute_result"
    }
   ],
   "source": [
    "X_norm.shape"
   ]
  },
  {
   "cell_type": "code",
   "execution_count": 14,
   "metadata": {
    "id": "f5OH2g0OLW_p"
   },
   "outputs": [],
   "source": [
    "clusters = np.arange(2,10)"
   ]
  },
  {
   "cell_type": "code",
   "execution_count": 15,
   "metadata": {
    "id": "KTN0tYiYLW_p",
    "outputId": "5871d299-470e-4529-bade-000a1a16740a"
   },
   "outputs": [
    {
     "data": {
      "text/plain": [
       "array([2, 3, 4, 5, 6, 7, 8, 9])"
      ]
     },
     "execution_count": 15,
     "metadata": {},
     "output_type": "execute_result"
    }
   ],
   "source": [
    "clusters"
   ]
  },
  {
   "cell_type": "code",
   "execution_count": 16,
   "metadata": {
    "id": "KHXVm0wXLW_p"
   },
   "outputs": [],
   "source": [
    "inercias = []\n",
    "for k in clusters:\n",
    "    kmeans = KMeans(n_clusters=k, random_state=0)\n",
    "    kmeans.fit(X_norm)\n",
    "    inercias.append(kmeans.inertia_)"
   ]
  },
  {
   "cell_type": "code",
   "execution_count": 17,
   "metadata": {
    "id": "6mAUwNB_LW_q"
   },
   "outputs": [],
   "source": [
    "eva = pd.DataFrame({\"K\":clusters, \"inercia\":inercias})"
   ]
  },
  {
   "cell_type": "code",
   "execution_count": 18,
   "metadata": {
    "id": "NAcii44fLW_q",
    "outputId": "1e3e6315-d028-4581-f4cb-00c9fca8f23b"
   },
   "outputs": [
    {
     "data": {
      "text/html": [
       "<div>\n",
       "<style scoped>\n",
       "    .dataframe tbody tr th:only-of-type {\n",
       "        vertical-align: middle;\n",
       "    }\n",
       "\n",
       "    .dataframe tbody tr th {\n",
       "        vertical-align: top;\n",
       "    }\n",
       "\n",
       "    .dataframe thead th {\n",
       "        text-align: right;\n",
       "    }\n",
       "</style>\n",
       "<table border=\"1\" class=\"dataframe\">\n",
       "  <thead>\n",
       "    <tr style=\"text-align: right;\">\n",
       "      <th></th>\n",
       "      <th>K</th>\n",
       "      <th>inercia</th>\n",
       "    </tr>\n",
       "  </thead>\n",
       "  <tbody>\n",
       "    <tr>\n",
       "      <th>0</th>\n",
       "      <td>2</td>\n",
       "      <td>13135.982497</td>\n",
       "    </tr>\n",
       "    <tr>\n",
       "      <th>1</th>\n",
       "      <td>3</td>\n",
       "      <td>7441.524718</td>\n",
       "    </tr>\n",
       "    <tr>\n",
       "      <th>2</th>\n",
       "      <td>4</td>\n",
       "      <td>5681.678186</td>\n",
       "    </tr>\n",
       "    <tr>\n",
       "      <th>3</th>\n",
       "      <td>5</td>\n",
       "      <td>4304.040579</td>\n",
       "    </tr>\n",
       "    <tr>\n",
       "      <th>4</th>\n",
       "      <td>6</td>\n",
       "      <td>3688.040991</td>\n",
       "    </tr>\n",
       "    <tr>\n",
       "      <th>5</th>\n",
       "      <td>7</td>\n",
       "      <td>3188.358012</td>\n",
       "    </tr>\n",
       "    <tr>\n",
       "      <th>6</th>\n",
       "      <td>8</td>\n",
       "      <td>2837.287872</td>\n",
       "    </tr>\n",
       "    <tr>\n",
       "      <th>7</th>\n",
       "      <td>9</td>\n",
       "      <td>2560.913451</td>\n",
       "    </tr>\n",
       "  </tbody>\n",
       "</table>\n",
       "</div>"
      ],
      "text/plain": [
       "   K       inercia\n",
       "0  2  13135.982497\n",
       "1  3   7441.524718\n",
       "2  4   5681.678186\n",
       "3  5   4304.040579\n",
       "4  6   3688.040991\n",
       "5  7   3188.358012\n",
       "6  8   2837.287872\n",
       "7  9   2560.913451"
      ]
     },
     "execution_count": 18,
     "metadata": {},
     "output_type": "execute_result"
    }
   ],
   "source": [
    "eva"
   ]
  },
  {
   "cell_type": "code",
   "execution_count": 19,
   "metadata": {
    "id": "MH-KgBckLW_q",
    "outputId": "e8f00c10-2968-4fb2-e9b5-bc1be7557baf"
   },
   "outputs": [
    {
     "data": {
      "text/plain": [
       "<AxesSubplot:xlabel='K', ylabel='inercia'>"
      ]
     },
     "execution_count": 19,
     "metadata": {},
     "output_type": "execute_result"
    },
    {
     "data": {
      "image/png": "[encoded data removed]",
      "text/plain": [
       "<Figure size 720x576 with 1 Axes>"
      ]
     },
     "metadata": {
      "needs_background": "light"
     },
     "output_type": "display_data"
    }
   ],
   "source": [
    "fig, ax = plt.subplots(figsize=(10,8))\n",
    "sns.lineplot(data = eva, x = \"K\", y = \"inercia\")"
   ]
  },
  {
   "cell_type": "code",
   "execution_count": 20,
   "metadata": {
    "id": "oQKs2CgMLW_q"
   },
   "outputs": [],
   "source": [
    "kmeans = KMeans(n_clusters=3, random_state=0)"
   ]
  },
  {
   "cell_type": "code",
   "execution_count": 21,
   "metadata": {
    "id": "WbwvOtEVLW_r",
    "outputId": "0acf3966-aa09-4983-ff64-d8d3a9830e51"
   },
   "outputs": [
    {
     "data": {
      "text/html": [
       "<style>#sk-container-id-2 {color: black;background-color: white;}#sk-container-id-2 pre{padding: 0;}#sk-container-id-2 div.sk-toggleable {background-color: white;}#sk-container-id-2 label.sk-toggleable__label {cursor: pointer;display: block;width: 100%;margin-bottom: 0;padding: 0.3em;box-sizing: border-box;text-align: center;}#sk-container-id-2 label.sk-toggleable__label-arrow:before {content: \"▸\";float: left;margin-right: 0.25em;color: #696969;}#sk-container-id-2 label.sk-toggleable__label-arrow:hover:before {color: black;}#sk-container-id-2 div.sk-estimator:hover label.sk-toggleable__label-arrow:before {color: black;}#sk-container-id-2 div.sk-toggleable__content {max-height: 0;max-width: 0;overflow: hidden;text-align: left;background-color: #f0f8ff;}#sk-container-id-2 div.sk-toggleable__content pre {margin: 0.2em;color: black;border-radius: 0.25em;background-color: #f0f8ff;}#sk-container-id-2 input.sk-toggleable__control:checked~div.sk-toggleable__content {max-height: 200px;max-width: 100%;overflow: auto;}#sk-container-id-2 input.sk-toggleable__control:checked~label.sk-toggleable__label-arrow:before {content: \"▾\";}#sk-container-id-2 div.sk-estimator input.sk-toggleable__control:checked~label.sk-toggleable__label {background-color: #d4ebff;}#sk-container-id-2 div.sk-label input.sk-toggleable__control:checked~label.sk-toggleable__label {background-color: #d4ebff;}#sk-container-id-2 input.sk-hidden--visually {border: 0;clip: rect(1px 1px 1px 1px);clip: rect(1px, 1px, 1px, 1px);height: 1px;margin: -1px;overflow: hidden;padding: 0;position: absolute;width: 1px;}#sk-container-id-2 div.sk-estimator {font-family: monospace;background-color: #f0f8ff;border: 1px dotted black;border-radius: 0.25em;box-sizing: border-box;margin-bottom: 0.5em;}#sk-container-id-2 div.sk-estimator:hover {background-color: #d4ebff;}#sk-container-id-2 div.sk-parallel-item::after {content: \"\";width: 100%;border-bottom: 1px solid gray;flex-grow: 1;}#sk-container-id-2 div.sk-label:hover label.sk-toggleable__label {background-color: #d4ebff;}#sk-container-id-2 div.sk-serial::before {content: \"\";position: absolute;border-left: 1px solid gray;box-sizing: border-box;top: 0;bottom: 0;left: 50%;z-index: 0;}#sk-container-id-2 div.sk-serial {display: flex;flex-direction: column;align-items: center;background-color: white;padding-right: 0.2em;padding-left: 0.2em;position: relative;}#sk-container-id-2 div.sk-item {position: relative;z-index: 1;}#sk-container-id-2 div.sk-parallel {display: flex;align-items: stretch;justify-content: center;background-color: white;position: relative;}#sk-container-id-2 div.sk-item::before, #sk-container-id-2 div.sk-parallel-item::before {content: \"\";position: absolute;border-left: 1px solid gray;box-sizing: border-box;top: 0;bottom: 0;left: 50%;z-index: -1;}#sk-container-id-2 div.sk-parallel-item {display: flex;flex-direction: column;z-index: 1;position: relative;background-color: white;}#sk-container-id-2 div.sk-parallel-item:first-child::after {align-self: flex-end;width: 50%;}#sk-container-id-2 div.sk-parallel-item:last-child::after {align-self: flex-start;width: 50%;}#sk-container-id-2 div.sk-parallel-item:only-child::after {width: 0;}#sk-container-id-2 div.sk-dashed-wrapped {border: 1px dashed gray;margin: 0 0.4em 0.5em 0.4em;box-sizing: border-box;padding-bottom: 0.4em;background-color: white;}#sk-container-id-2 div.sk-label label {font-family: monospace;font-weight: bold;display: inline-block;line-height: 1.2em;}#sk-container-id-2 div.sk-label-container {text-align: center;}#sk-container-id-2 div.sk-container {/* jupyter's `normalize.less` sets `[hidden] { display: none; }` but bootstrap.min.css set `[hidden] { display: none !important; }` so we also need the `!important` here to be able to override the default hidden behavior on the sphinx rendered scikit-learn.org. See: https://github.com/scikit-learn/scikit-learn/issues/21755 */display: inline-block !important;position: relative;}#sk-container-id-2 div.sk-text-repr-fallback {display: none;}</style><div id=\"sk-container-id-2\" class=\"sk-top-container\"><div class=\"sk-text-repr-fallback\"><pre>KMeans(n_clusters=3, random_state=0)</pre><b>In a Jupyter environment, please rerun this cell to show the HTML representation or trust the notebook. <br />On GitHub, the HTML representation is unable to render, please try loading this page with nbviewer.org.</b></div><div class=\"sk-container\" hidden><div class=\"sk-item\"><div class=\"sk-estimator sk-toggleable\"><input class=\"sk-toggleable__control sk-hidden--visually\" id=\"sk-estimator-id-2\" type=\"checkbox\" checked><label for=\"sk-estimator-id-2\" class=\"sk-toggleable__label sk-toggleable__label-arrow\">KMeans</label><div class=\"sk-toggleable__content\"><pre>KMeans(n_clusters=3, random_state=0)</pre></div></div></div></div></div>"
      ],
      "text/plain": [
       "KMeans(n_clusters=3, random_state=0)"
      ]
     },
     "execution_count": 21,
     "metadata": {},
     "output_type": "execute_result"
    }
   ],
   "source": [
    "kmeans.fit(X_norm)"
   ]
  },
  {
   "cell_type": "code",
   "execution_count": 22,
   "metadata": {
    "id": "NlpaobInLW_r",
    "outputId": "0b23da59-028d-4e38-bfdf-2d84fe60d9e6"
   },
   "outputs": [
    {
     "data": {
      "text/plain": [
       "array([[ 3.70597699, -0.03600012],\n",
       "       [-0.20791214,  2.73207153],\n",
       "       [-0.15698553, -0.24249133]])"
      ]
     },
     "execution_count": 22,
     "metadata": {},
     "output_type": "execute_result"
    }
   ],
   "source": [
    "kmeans.cluster_centers_"
   ]
  },
  {
   "cell_type": "code",
   "execution_count": 29,
   "metadata": {},
   "outputs": [
    {
     "data": {
      "text/html": [
       "<div>\n",
       "<style scoped>\n",
       "    .dataframe tbody tr th:only-of-type {\n",
       "        vertical-align: middle;\n",
       "    }\n",
       "\n",
       "    .dataframe tbody tr th {\n",
       "        vertical-align: top;\n",
       "    }\n",
       "\n",
       "    .dataframe thead th {\n",
       "        text-align: right;\n",
       "    }\n",
       "</style>\n",
       "<table border=\"1\" class=\"dataframe\">\n",
       "  <thead>\n",
       "    <tr style=\"text-align: right;\">\n",
       "      <th></th>\n",
       "      <th>ARRDELAY</th>\n",
       "      <th>DISTANCIA</th>\n",
       "      <th>cluster</th>\n",
       "    </tr>\n",
       "  </thead>\n",
       "  <tbody>\n",
       "    <tr>\n",
       "      <th>0</th>\n",
       "      <td>-3.0</td>\n",
       "      <td>580</td>\n",
       "      <td>2</td>\n",
       "    </tr>\n",
       "    <tr>\n",
       "      <th>1</th>\n",
       "      <td>9.0</td>\n",
       "      <td>744</td>\n",
       "      <td>2</td>\n",
       "    </tr>\n",
       "    <tr>\n",
       "      <th>2</th>\n",
       "      <td>80.0</td>\n",
       "      <td>718</td>\n",
       "      <td>0</td>\n",
       "    </tr>\n",
       "    <tr>\n",
       "      <th>3</th>\n",
       "      <td>-2.0</td>\n",
       "      <td>487</td>\n",
       "      <td>2</td>\n",
       "    </tr>\n",
       "    <tr>\n",
       "      <th>4</th>\n",
       "      <td>-3.0</td>\n",
       "      <td>744</td>\n",
       "      <td>2</td>\n",
       "    </tr>\n",
       "    <tr>\n",
       "      <th>...</th>\n",
       "      <td>...</td>\n",
       "      <td>...</td>\n",
       "      <td>...</td>\n",
       "    </tr>\n",
       "    <tr>\n",
       "      <th>9994</th>\n",
       "      <td>-4.0</td>\n",
       "      <td>903</td>\n",
       "      <td>2</td>\n",
       "    </tr>\n",
       "    <tr>\n",
       "      <th>9995</th>\n",
       "      <td>31.0</td>\n",
       "      <td>576</td>\n",
       "      <td>2</td>\n",
       "    </tr>\n",
       "    <tr>\n",
       "      <th>9996</th>\n",
       "      <td>35.0</td>\n",
       "      <td>581</td>\n",
       "      <td>2</td>\n",
       "    </tr>\n",
       "    <tr>\n",
       "      <th>9997</th>\n",
       "      <td>-5.0</td>\n",
       "      <td>306</td>\n",
       "      <td>2</td>\n",
       "    </tr>\n",
       "    <tr>\n",
       "      <th>9999</th>\n",
       "      <td>-8.0</td>\n",
       "      <td>545</td>\n",
       "      <td>2</td>\n",
       "    </tr>\n",
       "  </tbody>\n",
       "</table>\n",
       "<p>9742 rows × 3 columns</p>\n",
       "</div>"
      ],
      "text/plain": [
       "      ARRDELAY  DISTANCIA  cluster\n",
       "0         -3.0        580        2\n",
       "1          9.0        744        2\n",
       "2         80.0        718        0\n",
       "3         -2.0        487        2\n",
       "4         -3.0        744        2\n",
       "...        ...        ...      ...\n",
       "9994      -4.0        903        2\n",
       "9995      31.0        576        2\n",
       "9996      35.0        581        2\n",
       "9997      -5.0        306        2\n",
       "9999      -8.0        545        2\n",
       "\n",
       "[9742 rows x 3 columns]"
      ]
     },
     "execution_count": 29,
     "metadata": {},
     "output_type": "execute_result"
    }
   ],
   "source": []
  },
  {
   "cell_type": "code",
   "execution_count": 23,
   "metadata": {
    "id": "2TtCMBfDLW_s"
   },
   "outputs": [
    {
     "name": "stderr",
     "output_type": "stream",
     "text": [
      "/tmp/ipykernel_122898/2718596152.py:1: SettingWithCopyWarning: \n",
      "A value is trying to be set on a copy of a slice from a DataFrame.\n",
      "Try using .loc[row_indexer,col_indexer] = value instead\n",
      "\n",
      "See the caveats in the documentation: https://pandas.pydata.org/pandas-docs/stable/user_guide/indexing.html#returning-a-view-versus-a-copy\n",
      "  X[\"cluster\"] = kmeans.labels_\n"
     ]
    }
   ],
   "source": [
    "X[\"cluster\"] = kmeans.labels_"
   ]
  },
  {
   "cell_type": "code",
   "execution_count": 24,
   "metadata": {
    "id": "pYKSZ99gLW_s",
    "outputId": "ccea1566-7280-4d07-83f6-f7f042d68f5e"
   },
   "outputs": [
    {
     "data": {
      "text/html": [
       "<div>\n",
       "<style scoped>\n",
       "    .dataframe tbody tr th:only-of-type {\n",
       "        vertical-align: middle;\n",
       "    }\n",
       "\n",
       "    .dataframe tbody tr th {\n",
       "        vertical-align: top;\n",
       "    }\n",
       "\n",
       "    .dataframe thead th {\n",
       "        text-align: right;\n",
       "    }\n",
       "</style>\n",
       "<table border=\"1\" class=\"dataframe\">\n",
       "  <thead>\n",
       "    <tr style=\"text-align: right;\">\n",
       "      <th></th>\n",
       "      <th>ARRDELAY</th>\n",
       "      <th>DISTANCIA</th>\n",
       "      <th>cluster</th>\n",
       "    </tr>\n",
       "  </thead>\n",
       "  <tbody>\n",
       "    <tr>\n",
       "      <th>0</th>\n",
       "      <td>-3.0</td>\n",
       "      <td>580</td>\n",
       "      <td>2</td>\n",
       "    </tr>\n",
       "    <tr>\n",
       "      <th>1</th>\n",
       "      <td>9.0</td>\n",
       "      <td>744</td>\n",
       "      <td>2</td>\n",
       "    </tr>\n",
       "    <tr>\n",
       "      <th>2</th>\n",
       "      <td>80.0</td>\n",
       "      <td>718</td>\n",
       "      <td>0</td>\n",
       "    </tr>\n",
       "    <tr>\n",
       "      <th>3</th>\n",
       "      <td>-2.0</td>\n",
       "      <td>487</td>\n",
       "      <td>2</td>\n",
       "    </tr>\n",
       "    <tr>\n",
       "      <th>4</th>\n",
       "      <td>-3.0</td>\n",
       "      <td>744</td>\n",
       "      <td>2</td>\n",
       "    </tr>\n",
       "    <tr>\n",
       "      <th>...</th>\n",
       "      <td>...</td>\n",
       "      <td>...</td>\n",
       "      <td>...</td>\n",
       "    </tr>\n",
       "    <tr>\n",
       "      <th>9994</th>\n",
       "      <td>-4.0</td>\n",
       "      <td>903</td>\n",
       "      <td>2</td>\n",
       "    </tr>\n",
       "    <tr>\n",
       "      <th>9995</th>\n",
       "      <td>31.0</td>\n",
       "      <td>576</td>\n",
       "      <td>2</td>\n",
       "    </tr>\n",
       "    <tr>\n",
       "      <th>9996</th>\n",
       "      <td>35.0</td>\n",
       "      <td>581</td>\n",
       "      <td>2</td>\n",
       "    </tr>\n",
       "    <tr>\n",
       "      <th>9997</th>\n",
       "      <td>-5.0</td>\n",
       "      <td>306</td>\n",
       "      <td>2</td>\n",
       "    </tr>\n",
       "    <tr>\n",
       "      <th>9999</th>\n",
       "      <td>-8.0</td>\n",
       "      <td>545</td>\n",
       "      <td>2</td>\n",
       "    </tr>\n",
       "  </tbody>\n",
       "</table>\n",
       "<p>9742 rows × 3 columns</p>\n",
       "</div>"
      ],
      "text/plain": [
       "      ARRDELAY  DISTANCIA  cluster\n",
       "0         -3.0        580        2\n",
       "1          9.0        744        2\n",
       "2         80.0        718        0\n",
       "3         -2.0        487        2\n",
       "4         -3.0        744        2\n",
       "...        ...        ...      ...\n",
       "9994      -4.0        903        2\n",
       "9995      31.0        576        2\n",
       "9996      35.0        581        2\n",
       "9997      -5.0        306        2\n",
       "9999      -8.0        545        2\n",
       "\n",
       "[9742 rows x 3 columns]"
      ]
     },
     "execution_count": 24,
     "metadata": {},
     "output_type": "execute_result"
    }
   ],
   "source": [
    "X "
   ]
  },
  {
   "cell_type": "code",
   "execution_count": 25,
   "metadata": {
    "id": "A4bzjVaqLW_t",
    "outputId": "ff167e91-1a31-4d69-8cc4-9755f2752e93"
   },
   "outputs": [
    {
     "data": {
      "text/plain": [
       "<seaborn.axisgrid.PairGrid at 0x7f1ca8c79e40>"
      ]
     },
     "execution_count": 25,
     "metadata": {},
     "output_type": "execute_result"
    },
    {
     "data": {
      "image/png": "[encoded data removed]",
      "text/plain": [
       "<Figure size 402.375x360 with 6 Axes>"
      ]
     },
     "metadata": {
      "needs_background": "light"
     },
     "output_type": "display_data"
    }
   ],
   "source": [
    "sns.pairplot(X ,hue=\"cluster\", palette=\"tab10\")"
   ]
  },
  {
   "cell_type": "code",
   "execution_count": 26,
   "metadata": {
    "id": "l5kRbV97LW_t",
    "outputId": "c0af7453-9ef0-4917-f9d6-a26718834b2b"
   },
   "outputs": [],
   "source": [
    "#df.loc[df[\"cluster\"]==3]"
   ]
  },
  {
   "cell_type": "code",
   "execution_count": 27,
   "metadata": {
    "id": "QvWvFje5LW_t",
    "outputId": "69729f1b-eec7-44f9-ebb9-5e31f08eeb79"
   },
   "outputs": [],
   "source": [
    "#sns.boxplot(x=\"cluster\", y=\"Murder\", data=df)"
   ]
  },
  {
   "cell_type": "code",
   "execution_count": 28,
   "metadata": {
    "id": "CIyjpz-zLW_u",
    "outputId": "2a4b5535-4147-4bbb-f3de-e5a2faf2d4fd"
   },
   "outputs": [],
   "source": [
    "#sns.boxplot(x=\"cluster\", y=\"Rape\", data=df)"
   ]
  }
 ],
 "metadata": {
  "colab": {
   "collapsed_sections": [],
   "name": "kmeans.ipynb",
   "provenance": []
  },
  "kernelspec": {
   "display_name": "Python 3 (ipykernel)",
   "language": "python",
   "name": "python3"
  },
  "language_info": {
   "codemirror_mode": {
    "name": "ipython",
    "version": 3
   },
   "file_extension": ".py",
   "mimetype": "text/x-python",
   "name": "python",
   "nbconvert_exporter": "python",
   "pygments_lexer": "ipython3",
   "version": "3.10.5"
  }
 },
 "nbformat": 4,
 "nbformat_minor": 1
}
